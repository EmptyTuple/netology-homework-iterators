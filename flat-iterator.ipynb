{
 "cells": [
  {
   "cell_type": "code",
   "execution_count": 1,
   "metadata": {},
   "outputs": [],
   "source": [
    "import itertools"
   ]
  },
  {
   "cell_type": "markdown",
   "metadata": {},
   "source": [
    "### Задача 1. \n",
    "\n",
    "Написать итератор, который принимает список списков, и возвращает их плоское представление, т.е последовательность состоящую из вложенных элементов.\n",
    "\n",
    "Можно написать решение \"в лоб\" с вложенными циклами, но воспользуемся прекрасной библиотекой itertools.\n",
    "Также функцию flatten_single_nested() можно завернуть в класс, в котором также переопределить метод __iter__."
   ]
  },
  {
   "cell_type": "markdown",
   "metadata": {},
   "source": [
    "Определим списки разной степени вложенности для последующей работы:"
   ]
  },
  {
   "cell_type": "code",
   "execution_count": 23,
   "metadata": {},
   "outputs": [],
   "source": [
    "single_nested = [\n",
    "\t['a', 'b', 'c'],\n",
    "\t['d', 'e', 'f', 'h', False],\n",
    "\t[1, 2, None]\n",
    "]\n",
    "\n",
    "double_nested = [\n",
    "    [['a', 'b', 'c'], ['d', 'e', 'f']],\n",
    "    [['g', 'h', 'i'], ['j', 'k', 'l']],\n",
    "    [[1, 2, 3], [4, 5, 6]]\n",
    "]\n",
    "\n",
    "triple_nested = [\n",
    "    [[['we', 'all'], ['live', 'in']], [['the', 'yellow'], ['submarine', 'yellow', 'submarine']]],\n",
    "    [[['we', 'all'], ['live', 'in']], [['the', 'yellow'], ['submarine', 'yellow', 'submarine']]]\n",
    "]"
   ]
  },
  {
   "cell_type": "code",
   "execution_count": 5,
   "metadata": {},
   "outputs": [
    {
     "name": "stdout",
     "output_type": "stream",
     "text": [
      "a\n",
      "b\n",
      "c\n",
      "d\n",
      "e\n",
      "f\n",
      "h\n",
      "False\n",
      "1\n",
      "2\n",
      "None\n",
      "['a', 'b', 'c', 'd', 'e', 'f', 'h', False, 1, 2, None]\n"
     ]
    }
   ],
   "source": [
    "def flatten_single_nested(iterable: list | tuple)-> tuple:\n",
    "    '''Функция не может обрабатывать нессиметрично вложенные списки.'''\n",
    "    \n",
    "    try:\n",
    "        flat_thing = tuple(itertools.chain.from_iterable(iterable))\n",
    "        return flat_thing\n",
    "    except Exception as ex:\n",
    "        print('There is a non-symmetric nesting in the iterable!')\n",
    "\n",
    "# result checking:\n",
    "for item in flatten_single_nested(single_nested):\n",
    "    print(item)\n",
    "\n",
    "flat_list = [item for item in flatten_single_nested(single_nested)]\n",
    "print(flat_list)"
   ]
  },
  {
   "cell_type": "markdown",
   "metadata": {},
   "source": [
    "Также можно воспользоваться оператором reduce, опять только для симметричных вложений. Исключения в этом примере не обрабатываем."
   ]
  },
  {
   "cell_type": "code",
   "execution_count": 21,
   "metadata": {},
   "outputs": [
    {
     "name": "stdout",
     "output_type": "stream",
     "text": [
      "('a', 'b', 'c', 'd', 'e', 'f', 'h', False, 1, 2, None)\n"
     ]
    }
   ],
   "source": [
    "from functools import reduce\n",
    "import operator\n",
    "\n",
    "def flatten_with_reduce(iterable: list | tuple)-> tuple:\n",
    "    flat = tuple(reduce(operator.add, iterable))\n",
    "    return flat\n",
    "\n",
    "# result checking:\n",
    "print(flatten_with_reduce(single_nested))"
   ]
  },
  {
   "cell_type": "markdown",
   "metadata": {},
   "source": [
    "### Задача 3. \n",
    "\n",
    "Написать итератор аналогичный итератору из задания 1, но обрабатывающий списки с любым уровнем вложенности.\n",
    "\n",
    "Доработаем ранее написаную функцию, сделав ее рекурсивной."
   ]
  },
  {
   "cell_type": "code",
   "execution_count": 22,
   "metadata": {},
   "outputs": [
    {
     "name": "stdout",
     "output_type": "stream",
     "text": [
      "('a', 'b', 'c', 'd', 'e', 'f', 'h', False, 1, 2, None)\n",
      "('a', 'b', 'c', 'd', 'e', 'f', 'g', 'h', 'i', 'j', 'k', 'l', 1, 2, 3, 4, 5, 6)\n",
      "('we', 'all', 'live', 'in', 'the', 'yellow', 'submarine', 'yellow', 'submarine', 'we', 'all', 'live', 'in', 'the', 'yellow', 'submarine', 'yellow', 'submarine')\n"
     ]
    }
   ],
   "source": [
    "def flatten_many_nested(iterable: list | tuple)-> tuple:\n",
    "    '''Функция по-прежнему не может обрабатывать нессиметрично вложенные списки.'''\n",
    "    \n",
    "    try:\n",
    "        flat_thing = list(itertools.chain.from_iterable(iterable))\n",
    "        if any(map(lambda x: type(x) == list, flat_thing)) is True:\n",
    "            return flatten_many_nested(flat_thing)\n",
    "        return tuple(flat_thing)\n",
    "    except Exception as ex:\n",
    "        print('There is a non-symmetric nesting in the iterable!')\n",
    "\n",
    "# result checking:\n",
    "\n",
    "print(flatten_many_nested(single_nested))\n",
    "print(flatten_many_nested(double_nested))\n",
    "print(flatten_many_nested(triple_nested))"
   ]
  },
  {
   "cell_type": "markdown",
   "metadata": {},
   "source": [
    "### Несимметричный нестинг.\n",
    "\n",
    "Задача с несимметричными вложениями также решаема, но нужны уточнения в ее постановке, например, насколько важен порядок элементов.\n",
    "\n",
    "Ниже, как вариант простой пример:"
   ]
  },
  {
   "cell_type": "code",
   "execution_count": 25,
   "metadata": {},
   "outputs": [
    {
     "name": "stdout",
     "output_type": "stream",
     "text": [
      "(1, 2, 3, 4, 5, 6)\n"
     ]
    }
   ],
   "source": [
    "tricky_list = [[1, 2], 3, 4, [5, 6]]\n",
    "\n",
    "def flatten_any_thing(iterable: list | tuple)-> tuple:\n",
    "    totally_flat = []\n",
    "    for item in iterable:\n",
    "        if not isinstance(item, list | tuple):\n",
    "            totally_flat.append(item)\n",
    "        else:\n",
    "            totally_flat.extend(item)\n",
    "    return tuple(totally_flat)\n",
    "\n",
    "print(flatten_any_thing(tricky_list))"
   ]
  }
 ],
 "metadata": {
  "kernelspec": {
   "display_name": "Python 3.10.4 64-bit",
   "language": "python",
   "name": "python3"
  },
  "language_info": {
   "codemirror_mode": {
    "name": "ipython",
    "version": 3
   },
   "file_extension": ".py",
   "mimetype": "text/x-python",
   "name": "python",
   "nbconvert_exporter": "python",
   "pygments_lexer": "ipython3",
   "version": "3.10.4"
  },
  "orig_nbformat": 4,
  "vscode": {
   "interpreter": {
    "hash": "aee8b7b246df8f9039afb4144a1f6fd8d2ca17a180786b69acc140d282b71a49"
   }
  }
 },
 "nbformat": 4,
 "nbformat_minor": 2
}
